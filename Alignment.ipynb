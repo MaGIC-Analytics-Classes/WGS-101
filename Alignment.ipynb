{
 "cells": [
  {
   "cell_type": "markdown",
   "metadata": {},
   "source": [
    "# BWA Alignment\n",
    "This is a notebook walk through for Burrows-Wheerler Alignment (BWA) for Whole Genome Variant analysis. "
   ]
  },
  {
   "cell_type": "markdown",
   "metadata": {},
   "source": [
    "## FASTQ Quality Check\n",
    "This is the first step for quality checking your samples. To check your FASTQ files, use FASTQC which is published by the [Babraham Bioinformatics](https://www.bioinformatics.babraham.ac.uk/projects/fastqc/) team as the first line QC tool.\n",
    "\n",
    "This tool will evaluate the overall health of your sample. In particular, you will want to look at:\n",
    "- Total number of sequences\n",
    "    - Make sure it aligns with your targetted expectations\n",
    "- Per base sequencing quality\n",
    "    - It should drop over time, especially in 2x300bp reads. Ensure that it doesnt drop too far, usually you want Q30>90% if possible\n",
    "- QC content\n",
    "    - Make sure it aligns with your genome of interest\n",
    "- %N\n",
    "    - N is an ambiguous base. You dont want many of these in your sample (if any)\n",
    "- Sequence Length\n",
    "    - Make sure the length you put in to the sequencer is whats coming out\n",
    "- Duplication levels\n",
    "    - Keep as low as possible, but any library with PCR you expect some\n",
    "- Adapter content\n",
    "    - This will be driven by your insert size and sequencing length. If you are sequencing through your entire insert and in to the adapter on the other side, you would expect contamination here. Usually best to avoid that, but if you see some you will need to trim it out. "
   ]
  },
  {
   "cell_type": "code",
   "execution_count": null,
   "metadata": {},
   "outputs": [],
   "source": [
    "%%bash\n",
    "fastqc raw_align/SAMN09914146_1.fastq.gz\n",
    "fastqc raw_align/SAMN09914146_2.fastq.gz"
   ]
  },
  {
   "cell_type": "markdown",
   "metadata": {},
   "source": [
    "To view your FASTQC output, navigate into the raw_align directory (containing the raw files for alignment) and look for .html files that are the output. Download those and then open them in your browser to explore the output."
   ]
  },
  {
   "cell_type": "markdown",
   "metadata": {},
   "source": [
    "## Read Trimming\n",
    "Trimming the reads is often a critical step in preparing your samples for alignment. This remove ambiguous bases, low quality bases/reads, and also removes any adapter content that may be in the read. For most trimming cases, [Trimmomatic](http://www.usadellab.org/cms/?page=trimmomatic) is a viable tool. Another commonly used tool is [CutAdapt](https://cutadapt.readthedocs.io/en/stable/), but here we will use trimmomatic. \n",
    "\n",
    "Parameters used:\n",
    "- PE\n",
    "    - Denotes the input as paired end reads. Following that, you need to put the two input files, then trimmed-1-unpaired, trimmed-1-paired, trimmed-2-unpaired, trimmed-2-paired for output files\n",
    "- ILLUMINACLIP\n",
    "    - To clip off specifically any Illumina reads that are found. The numbers that follow are the seed mismatch (maximum count of mismatches to identify adapter), palindrome clip threshold (to remove possible identical adapters on both ends of reads), and the simple clip threshold (how accurate the adapter is to read beyond the seed)\n",
    "- LEADING TRAILING\n",
    "    - Removes bases from the start and end of the read if they are below thresholds. \"2\" is Illumina for \"low quality\"\n",
    "- SLIDING WINDOW\n",
    "    - Looks at the read in a sliding window frame and takes the average of multiple bases. The first number is the window size and the second is quality score. Again \"2\" is Illumina for \"low quality\", but this allows for 1 base to not potentially trash an otherwise high quality read. \n",
    "- MINLEN\n",
    "    - The minimum length of a read after trimming to accept. "
   ]
  },
  {
   "cell_type": "code",
   "execution_count": null,
   "metadata": {},
   "outputs": [],
   "source": [
    "%%bash\n",
    "trimmomatic PE raw_align/SAMN09914146_1.fastq.gz raw_align/SAMN09914146_2.fastq.gz \\\n",
    "    raw_align/trimmed_R1_unpaired.fastq.gz raw_align/trimmed_R1_paired.fastq.gz\\\n",
    "    raw_align/trimmed_R2_unpaired.fastq.gz raw_align/trimmed_R2_paired.fastq.gz\\\n",
    "    ILLUMINACLIP:raw_align/adapters.fasta:2:40:15 \\\n",
    "    LEADING:2 TRAILING:2 \\\n",
    "    SLIDINGWINDOW:4:2 \\\n",
    "    MINLEN:25"
   ]
  },
  {
   "cell_type": "markdown",
   "metadata": {},
   "source": [
    "And then do a QC check on the samples again to see how they are after trimming!\n",
    "\n",
    "We also introduce a tool called [MultiQC](https://multiqc.info/). This is a great QC aggregation tool. Play around with it a bit, but after running this you can download the multiqc file, open it in a browser, and view things aggregated. "
   ]
  },
  {
   "cell_type": "code",
   "execution_count": null,
   "metadata": {},
   "outputs": [],
   "source": [
    "%%bash\n",
    "fastqc raw_align/trimmed_R1_unpaired.fastq.gz \n",
    "fastqc raw_align/trimmed_R1_paired.fastq.gz\n",
    "fastqc raw_align/trimmed_R2_unpaired.fastq.gz \n",
    "fastqc raw_align/trimmed_R2_paired.fastq.gz\n",
    "multiqc raw_align/."
   ]
  },
  {
   "cell_type": "markdown",
   "metadata": {},
   "source": [
    "## BWA\n",
    "Now we are getting to the actual alignment steps using the [Burrows-Wheeler Aligner](http://bio-bwa.sourceforge.net/bwa.shtml). If you remember back to the lecture, BWA is based upon a compressed suffix array for alignment. Therefore, to do the alignment you must first index your reference genome. This converts it to the compressed suffix array format that will allow it to be appropriately scanned. "
   ]
  },
  {
   "cell_type": "code",
   "execution_count": null,
   "metadata": {},
   "outputs": [],
   "source": [
    "%%bash\n",
    "bwa index raw_align/NZ_CP017669.1.fa"
   ]
  },
  {
   "cell_type": "markdown",
   "metadata": {},
   "source": [
    "Once its been indexed, you can now align your reads to the reference. Specifically within BWA, there are three base algorithms. MEM is the most recent and most accurate, so rarely will you see a use case to not use bwa mem. \n",
    "\n",
    "Primary Parameters:\n",
    "- Indexed Reference\n",
    "    - The first parameter after mem is your Indexed Reference file. It should be the same as the file you indexed the step previously\n",
    "- The various FASTQ files you will be aligning. \n",
    "- Output file\n",
    "    - The is after the carrot (>). The default for BWA is the sam file format.\n",
    "If all you need is a quick standard alignment, that is all you need. \n",
    "\n",
    "Advanced Paramters:\n",
    "For tweaking the algorithm operation. Think back to the smith-waterman and BLAST alignment discussions. A lot of these parameters might sound familiar...\n",
    "- -k\n",
    "    - Minimum seed length. Default 19\n",
    "- -w \n",
    "    - Band width. Gaps longer than it will not be found. Default 100\n",
    "- -d\n",
    "    - Z dropoff. Avoids unnecessary extension and reduces poor alignments in good alignments. Default 100\n",
    "- -r\n",
    "    - Re-seed trigger. Larger number means less seeds, which is faster but less accurate. Default 1.5\n",
    "- -c\n",
    "    - Discard if it has more than X occurences in the genome. To remove overly prolific reads (rare). Default 10000\n",
    "- -A\n",
    "    - Matching score. Default 1\n",
    "- -B\n",
    "    - Mismatch penalty. Default 4\n",
    "- -O\n",
    "    - Open gap penalty. Default 6\n",
    "- -E\n",
    "    - Gap extension penalty. Default 1\n",
    "- -L \n",
    "    - Clipping penalty. If the final alignment score is > the best score-this, it wont be clipped. Default 5\n",
    "- -U\n",
    "    - Unpaired read penalty. Default 9\n",
    "And a few others that are less likely to be used. If you are interested more, explore the BWA documentation. \n"
   ]
  },
  {
   "cell_type": "code",
   "execution_count": null,
   "metadata": {},
   "outputs": [],
   "source": [
    "%%bash\n",
    "bwa mem raw_align/NZ_CP017669.1.fa raw_align/trimmed_R1_paired.fastq.gz raw_align/trimmed_R2_paired.fastq.gz > ecoli.sam"
   ]
  },
  {
   "cell_type": "markdown",
   "metadata": {},
   "source": [
    "## Samtools management\n",
    "Now we will use [Samtools](http://www.htslib.org/) to manipulate the data into a more useable output. In this case we will first convert it to a .bam file (allows for indexing), then we will sort the file, then index it to allow for easy and quick callbacks later. "
   ]
  },
  {
   "cell_type": "code",
   "execution_count": null,
   "metadata": {},
   "outputs": [],
   "source": [
    "%%bash\n",
    "samtools view -hSbo ecoli.bam ecoli.sam\n",
    "samtools sort ecoli.bam -o ecoli.sorted.bam\n",
    "samtools index ecoli.sorted.bam"
   ]
  },
  {
   "cell_type": "markdown",
   "metadata": {},
   "source": [
    "We can also use Samtools to look at some stats now. One option is the flagstat command, but you can also just use stat. Both tell you different information, so try them both out!"
   ]
  },
  {
   "cell_type": "code",
   "execution_count": null,
   "metadata": {},
   "outputs": [],
   "source": [
    "%%bash\n",
    "samtools flagstat ecoli.sorted.bam"
   ]
  },
  {
   "cell_type": "markdown",
   "metadata": {},
   "source": [
    "The next step is to perform the variant calling. A standard tool for this is within samtools called [mpileup](http://www.htslib.org/doc/samtools-mpileup.html) and then [bcftools](http://samtools.github.io/bcftools/bcftools.html) to generate a Variant Call File (.vcf). \n",
    "Parameters: \n",
    "- -u\n",
    "    - Sets output as VCF file\n",
    "- -f\n",
    "    - input reference\n",
    "- -mv\n",
    "    - Default calling method and variants only\n",
    "- -Ov\n",
    "    - Output format for VCF\n",
    "Which we then follow up by downloading the *E.coli* reference annotations and intersecting with our variant list. We now can see where the variants are in terms of gene locations!"
   ]
  },
  {
   "cell_type": "code",
   "execution_count": null,
   "metadata": {},
   "outputs": [],
   "source": [
    "%%bash\n",
    "samtools mpileup -u -f raw_align/NZ_CP017669.1.fa ecoli.sorted.bam | \\\n",
    "    bcftools call -mv -Ov > variants.vcf\n",
    "wget -O ecoli_genes.gff \"https://www.ncbi.nlm.nih.gov/sviewer/viewer.cgi?db=nuccore&report=gff3&id=NZ_CP017669.1\"\n",
    "bedtools intersect -a ecoli_genes.gff -b variants.vcf -wa -u > aligned_variants.vcf"
   ]
  }
 ],
 "metadata": {
  "kernelspec": {
   "display_name": "Python 3",
   "language": "python",
   "name": "python3"
  },
  "language_info": {
   "codemirror_mode": {
    "name": "ipython",
    "version": 3
   },
   "file_extension": ".py",
   "mimetype": "text/x-python",
   "name": "python",
   "nbconvert_exporter": "python",
   "pygments_lexer": "ipython3",
   "version": "3.7.4"
  }
 },
 "nbformat": 4,
 "nbformat_minor": 4
}
